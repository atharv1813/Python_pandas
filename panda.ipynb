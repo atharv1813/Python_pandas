{
 "cells": [
  {
   "cell_type": "code",
   "execution_count": 3,
   "id": "252d60a3",
   "metadata": {
    "scrolled": true
   },
   "outputs": [
    {
     "name": "stdout",
     "output_type": "stream",
     "text": [
      "0    3\n",
      "1    4\n",
      "2    5\n",
      "3    6\n",
      "4    7\n",
      "5    8\n",
      "dtype: int64\n"
     ]
    }
   ],
   "source": [
    "import pandas as pd\n",
    "x=[3,4,5,6,7,8]\n",
    "var=pd.Series(x)\n",
    "print(var)"
   ]
  },
  {
   "cell_type": "code",
   "execution_count": 4,
   "id": "a6ec6b57",
   "metadata": {},
   "outputs": [
    {
     "name": "stdout",
     "output_type": "stream",
     "text": [
      "a    3.0\n",
      "b    4.0\n",
      "c    5.0\n",
      "d    6.0\n",
      "Name: python, dtype: float64\n"
     ]
    }
   ],
   "source": [
    "import pandas as pd\n",
    "x=[3,4,5,6]\n",
    "var=pd.Series(x, index=['a','b','c','d'], dtype=\"float\", name=\"python\")\n",
    "print(var)"
   ]
  },
  {
   "cell_type": "code",
   "execution_count": 6,
   "id": "e5b8a919",
   "metadata": {},
   "outputs": [
    {
     "name": "stdout",
     "output_type": "stream",
     "text": [
      "Name       [atharv, ram, jaya]\n",
      "rank     [1, 2, 3, 4, 5, 6, 7]\n",
      "marks             [12, 43, 56]\n",
      "dtype: object\n"
     ]
    }
   ],
   "source": [
    "dic={\"Name\" :[\"atharv\",\"ram\", \"jaya\"], \"rank\": [1,2,3,4,5,6,7], \"marks\" : [12,43,56]}\n",
    "var=pd.Series(dic)\n",
    "print(var)"
   ]
  },
  {
   "cell_type": "code",
   "execution_count": 7,
   "id": "569215e9",
   "metadata": {},
   "outputs": [
    {
     "name": "stdout",
     "output_type": "stream",
     "text": [
      "1    12\n",
      "2    12\n",
      "3    12\n",
      "4    12\n",
      "5    12\n",
      "dtype: int64\n"
     ]
    }
   ],
   "source": [
    "s=pd.Series(12,index=[1,2,3,4,5])\n",
    "print(s)"
   ]
  },
  {
   "cell_type": "code",
   "execution_count": 8,
   "id": "d8b0a0b4",
   "metadata": {},
   "outputs": [
    {
     "name": "stdout",
     "output_type": "stream",
     "text": [
      "1    24.0\n",
      "2    24.0\n",
      "3    24.0\n",
      "4     NaN\n",
      "5     NaN\n",
      "dtype: float64\n"
     ]
    }
   ],
   "source": [
    "s1=pd.Series(12,index=[1,2,3,4,5])\n",
    "s2=pd.Series(12,index=[1,2,3])\n",
    "print(s1+s2)"
   ]
  },
  {
   "cell_type": "code",
   "execution_count": 9,
   "id": "40b6f729",
   "metadata": {},
   "outputs": [
    {
     "name": "stdout",
     "output_type": "stream",
     "text": [
      "   0\n",
      "0  3\n",
      "1  4\n",
      "2  5\n",
      "3  6\n",
      "4  7\n",
      "5  8\n"
     ]
    }
   ],
   "source": [
    "x=[3,4,5,6,7,8]\n",
    "var=pd.DataFrame(x)\n",
    "print(var)"
   ]
  },
  {
   "cell_type": "code",
   "execution_count": 11,
   "id": "b0f966e7",
   "metadata": {},
   "outputs": [
    {
     "ename": "ValueError",
     "evalue": "All arrays must be of the same length",
     "output_type": "error",
     "traceback": [
      "\u001b[1;31m---------------------------------------------------------------------------\u001b[0m",
      "\u001b[1;31mValueError\u001b[0m                                Traceback (most recent call last)",
      "\u001b[1;32m~\\AppData\\Local\\Temp\\ipykernel_16560\\3663061639.py\u001b[0m in \u001b[0;36m<module>\u001b[1;34m\u001b[0m\n\u001b[0;32m      1\u001b[0m \u001b[0mdic\u001b[0m\u001b[1;33m=\u001b[0m\u001b[1;33m{\u001b[0m\u001b[1;34m\"Name\"\u001b[0m \u001b[1;33m:\u001b[0m\u001b[1;33m[\u001b[0m\u001b[1;34m\"atharv\"\u001b[0m\u001b[1;33m,\u001b[0m\u001b[1;34m\"ram\"\u001b[0m\u001b[1;33m,\u001b[0m \u001b[1;34m\"jaya\"\u001b[0m\u001b[1;33m]\u001b[0m\u001b[1;33m,\u001b[0m \u001b[1;34m\"rank\"\u001b[0m\u001b[1;33m:\u001b[0m \u001b[1;33m[\u001b[0m\u001b[1;36m1\u001b[0m\u001b[1;33m,\u001b[0m\u001b[1;36m2\u001b[0m\u001b[1;33m,\u001b[0m\u001b[1;36m3\u001b[0m\u001b[1;33m,\u001b[0m\u001b[1;36m4\u001b[0m\u001b[1;33m,\u001b[0m\u001b[1;36m5\u001b[0m\u001b[1;33m,\u001b[0m\u001b[1;36m6\u001b[0m\u001b[1;33m,\u001b[0m\u001b[1;36m7\u001b[0m\u001b[1;33m]\u001b[0m\u001b[1;33m,\u001b[0m \u001b[1;34m\"marks\"\u001b[0m \u001b[1;33m:\u001b[0m \u001b[1;33m[\u001b[0m\u001b[1;36m12\u001b[0m\u001b[1;33m,\u001b[0m\u001b[1;36m43\u001b[0m\u001b[1;33m,\u001b[0m\u001b[1;36m56\u001b[0m\u001b[1;33m]\u001b[0m\u001b[1;33m}\u001b[0m\u001b[1;33m\u001b[0m\u001b[1;33m\u001b[0m\u001b[0m\n\u001b[1;32m----> 2\u001b[1;33m \u001b[0mvar\u001b[0m\u001b[1;33m=\u001b[0m\u001b[0mpd\u001b[0m\u001b[1;33m.\u001b[0m\u001b[0mDataFrame\u001b[0m\u001b[1;33m(\u001b[0m\u001b[0mdic\u001b[0m\u001b[1;33m)\u001b[0m \u001b[1;31m#nhi chalega coz sabki length same nahi hai\u001b[0m\u001b[1;33m\u001b[0m\u001b[1;33m\u001b[0m\u001b[0m\n\u001b[0m\u001b[0;32m      3\u001b[0m \u001b[0mprint\u001b[0m\u001b[1;33m(\u001b[0m\u001b[0mvar\u001b[0m\u001b[1;33m)\u001b[0m\u001b[1;33m\u001b[0m\u001b[1;33m\u001b[0m\u001b[0m\n",
      "\u001b[1;32m~\\anaconda3\\lib\\site-packages\\pandas\\core\\frame.py\u001b[0m in \u001b[0;36m__init__\u001b[1;34m(self, data, index, columns, dtype, copy)\u001b[0m\n\u001b[0;32m    634\u001b[0m         \u001b[1;32melif\u001b[0m \u001b[0misinstance\u001b[0m\u001b[1;33m(\u001b[0m\u001b[0mdata\u001b[0m\u001b[1;33m,\u001b[0m \u001b[0mdict\u001b[0m\u001b[1;33m)\u001b[0m\u001b[1;33m:\u001b[0m\u001b[1;33m\u001b[0m\u001b[1;33m\u001b[0m\u001b[0m\n\u001b[0;32m    635\u001b[0m             \u001b[1;31m# GH#38939 de facto copy defaults to False only in non-dict cases\u001b[0m\u001b[1;33m\u001b[0m\u001b[1;33m\u001b[0m\u001b[0m\n\u001b[1;32m--> 636\u001b[1;33m             \u001b[0mmgr\u001b[0m \u001b[1;33m=\u001b[0m \u001b[0mdict_to_mgr\u001b[0m\u001b[1;33m(\u001b[0m\u001b[0mdata\u001b[0m\u001b[1;33m,\u001b[0m \u001b[0mindex\u001b[0m\u001b[1;33m,\u001b[0m \u001b[0mcolumns\u001b[0m\u001b[1;33m,\u001b[0m \u001b[0mdtype\u001b[0m\u001b[1;33m=\u001b[0m\u001b[0mdtype\u001b[0m\u001b[1;33m,\u001b[0m \u001b[0mcopy\u001b[0m\u001b[1;33m=\u001b[0m\u001b[0mcopy\u001b[0m\u001b[1;33m,\u001b[0m \u001b[0mtyp\u001b[0m\u001b[1;33m=\u001b[0m\u001b[0mmanager\u001b[0m\u001b[1;33m)\u001b[0m\u001b[1;33m\u001b[0m\u001b[1;33m\u001b[0m\u001b[0m\n\u001b[0m\u001b[0;32m    637\u001b[0m         \u001b[1;32melif\u001b[0m \u001b[0misinstance\u001b[0m\u001b[1;33m(\u001b[0m\u001b[0mdata\u001b[0m\u001b[1;33m,\u001b[0m \u001b[0mma\u001b[0m\u001b[1;33m.\u001b[0m\u001b[0mMaskedArray\u001b[0m\u001b[1;33m)\u001b[0m\u001b[1;33m:\u001b[0m\u001b[1;33m\u001b[0m\u001b[1;33m\u001b[0m\u001b[0m\n\u001b[0;32m    638\u001b[0m             \u001b[1;32mimport\u001b[0m \u001b[0mnumpy\u001b[0m\u001b[1;33m.\u001b[0m\u001b[0mma\u001b[0m\u001b[1;33m.\u001b[0m\u001b[0mmrecords\u001b[0m \u001b[1;32mas\u001b[0m \u001b[0mmrecords\u001b[0m\u001b[1;33m\u001b[0m\u001b[1;33m\u001b[0m\u001b[0m\n",
      "\u001b[1;32m~\\anaconda3\\lib\\site-packages\\pandas\\core\\internals\\construction.py\u001b[0m in \u001b[0;36mdict_to_mgr\u001b[1;34m(data, index, columns, dtype, typ, copy)\u001b[0m\n\u001b[0;32m    500\u001b[0m         \u001b[1;31m# TODO: can we get rid of the dt64tz special case above?\u001b[0m\u001b[1;33m\u001b[0m\u001b[1;33m\u001b[0m\u001b[0m\n\u001b[0;32m    501\u001b[0m \u001b[1;33m\u001b[0m\u001b[0m\n\u001b[1;32m--> 502\u001b[1;33m     \u001b[1;32mreturn\u001b[0m \u001b[0marrays_to_mgr\u001b[0m\u001b[1;33m(\u001b[0m\u001b[0marrays\u001b[0m\u001b[1;33m,\u001b[0m \u001b[0mcolumns\u001b[0m\u001b[1;33m,\u001b[0m \u001b[0mindex\u001b[0m\u001b[1;33m,\u001b[0m \u001b[0mdtype\u001b[0m\u001b[1;33m=\u001b[0m\u001b[0mdtype\u001b[0m\u001b[1;33m,\u001b[0m \u001b[0mtyp\u001b[0m\u001b[1;33m=\u001b[0m\u001b[0mtyp\u001b[0m\u001b[1;33m,\u001b[0m \u001b[0mconsolidate\u001b[0m\u001b[1;33m=\u001b[0m\u001b[0mcopy\u001b[0m\u001b[1;33m)\u001b[0m\u001b[1;33m\u001b[0m\u001b[1;33m\u001b[0m\u001b[0m\n\u001b[0m\u001b[0;32m    503\u001b[0m \u001b[1;33m\u001b[0m\u001b[0m\n\u001b[0;32m    504\u001b[0m \u001b[1;33m\u001b[0m\u001b[0m\n",
      "\u001b[1;32m~\\anaconda3\\lib\\site-packages\\pandas\\core\\internals\\construction.py\u001b[0m in \u001b[0;36marrays_to_mgr\u001b[1;34m(arrays, columns, index, dtype, verify_integrity, typ, consolidate)\u001b[0m\n\u001b[0;32m    118\u001b[0m         \u001b[1;31m# figure out the index, if necessary\u001b[0m\u001b[1;33m\u001b[0m\u001b[1;33m\u001b[0m\u001b[0m\n\u001b[0;32m    119\u001b[0m         \u001b[1;32mif\u001b[0m \u001b[0mindex\u001b[0m \u001b[1;32mis\u001b[0m \u001b[1;32mNone\u001b[0m\u001b[1;33m:\u001b[0m\u001b[1;33m\u001b[0m\u001b[1;33m\u001b[0m\u001b[0m\n\u001b[1;32m--> 120\u001b[1;33m             \u001b[0mindex\u001b[0m \u001b[1;33m=\u001b[0m \u001b[0m_extract_index\u001b[0m\u001b[1;33m(\u001b[0m\u001b[0marrays\u001b[0m\u001b[1;33m)\u001b[0m\u001b[1;33m\u001b[0m\u001b[1;33m\u001b[0m\u001b[0m\n\u001b[0m\u001b[0;32m    121\u001b[0m         \u001b[1;32melse\u001b[0m\u001b[1;33m:\u001b[0m\u001b[1;33m\u001b[0m\u001b[1;33m\u001b[0m\u001b[0m\n\u001b[0;32m    122\u001b[0m             \u001b[0mindex\u001b[0m \u001b[1;33m=\u001b[0m \u001b[0mensure_index\u001b[0m\u001b[1;33m(\u001b[0m\u001b[0mindex\u001b[0m\u001b[1;33m)\u001b[0m\u001b[1;33m\u001b[0m\u001b[1;33m\u001b[0m\u001b[0m\n",
      "\u001b[1;32m~\\anaconda3\\lib\\site-packages\\pandas\\core\\internals\\construction.py\u001b[0m in \u001b[0;36m_extract_index\u001b[1;34m(data)\u001b[0m\n\u001b[0;32m    672\u001b[0m             \u001b[0mlengths\u001b[0m \u001b[1;33m=\u001b[0m \u001b[0mlist\u001b[0m\u001b[1;33m(\u001b[0m\u001b[0mset\u001b[0m\u001b[1;33m(\u001b[0m\u001b[0mraw_lengths\u001b[0m\u001b[1;33m)\u001b[0m\u001b[1;33m)\u001b[0m\u001b[1;33m\u001b[0m\u001b[1;33m\u001b[0m\u001b[0m\n\u001b[0;32m    673\u001b[0m             \u001b[1;32mif\u001b[0m \u001b[0mlen\u001b[0m\u001b[1;33m(\u001b[0m\u001b[0mlengths\u001b[0m\u001b[1;33m)\u001b[0m \u001b[1;33m>\u001b[0m \u001b[1;36m1\u001b[0m\u001b[1;33m:\u001b[0m\u001b[1;33m\u001b[0m\u001b[1;33m\u001b[0m\u001b[0m\n\u001b[1;32m--> 674\u001b[1;33m                 \u001b[1;32mraise\u001b[0m \u001b[0mValueError\u001b[0m\u001b[1;33m(\u001b[0m\u001b[1;34m\"All arrays must be of the same length\"\u001b[0m\u001b[1;33m)\u001b[0m\u001b[1;33m\u001b[0m\u001b[1;33m\u001b[0m\u001b[0m\n\u001b[0m\u001b[0;32m    675\u001b[0m \u001b[1;33m\u001b[0m\u001b[0m\n\u001b[0;32m    676\u001b[0m             \u001b[1;32mif\u001b[0m \u001b[0mhave_dicts\u001b[0m\u001b[1;33m:\u001b[0m\u001b[1;33m\u001b[0m\u001b[1;33m\u001b[0m\u001b[0m\n",
      "\u001b[1;31mValueError\u001b[0m: All arrays must be of the same length"
     ]
    }
   ],
   "source": [
    "dic={\"Name\" :[\"atharv\",\"ram\", \"jaya\"], \"rank\": [1,2,3,4,5,6,7], \"marks\" : [12,43,56]}\n",
    "var=pd.DataFrame(dic) #nhi chalega coz sabki length same nahi hai\n",
    "print(var)"
   ]
  },
  {
   "cell_type": "code",
   "execution_count": 14,
   "id": "2eef8cce",
   "metadata": {},
   "outputs": [
    {
     "name": "stdout",
     "output_type": "stream",
     "text": [
      "       Name  marks\n",
      "ek   atharv     12\n",
      "don     ram     43\n",
      "tin    jaya     56\n",
      "jaya\n"
     ]
    }
   ],
   "source": [
    "dic={\"Name\" :[\"atharv\",\"ram\", \"jaya\"], \"rank\": [1,2,3], \"marks\" : [12,43,56]}\n",
    "var=pd.DataFrame(dic, columns=[\"Name\", \"marks\"], index=[\"ek\", \"don\", \"tin\"]) \n",
    "print(var)\n",
    "print(var[\"Name\"][2])"
   ]
  },
  {
   "cell_type": "code",
   "execution_count": 15,
   "id": "d2327a01",
   "metadata": {},
   "outputs": [
    {
     "name": "stdout",
     "output_type": "stream",
     "text": [
      "   0  1  2\n",
      "0  1  2  3\n",
      "1  4  5  6\n"
     ]
    }
   ],
   "source": [
    "l=[[1,2,3],[4,5,6]]\n",
    "var=pd.DataFrame(l)\n",
    "print(var)"
   ]
  },
  {
   "cell_type": "code",
   "execution_count": 16,
   "id": "144f5793",
   "metadata": {},
   "outputs": [
    {
     "name": "stdout",
     "output_type": "stream",
     "text": [
      "    s   r\n",
      "1  12  24\n",
      "2  12  24\n",
      "3  12  24\n"
     ]
    }
   ],
   "source": [
    "x={\"s\":pd.Series(12,index=[1,2,3]), \"r\": pd.Series(24,index=[1,2,3])}\n",
    "var=pd.DataFrame(x)\n",
    "print(var)"
   ]
  },
  {
   "cell_type": "code",
   "execution_count": 17,
   "id": "5e9afa8c",
   "metadata": {},
   "outputs": [
    {
     "name": "stdout",
     "output_type": "stream",
     "text": [
      "    s   r   c\n",
      "1  12  24  36\n",
      "2  12  24  36\n",
      "3  12  24  36\n"
     ]
    }
   ],
   "source": [
    "x={\"s\":pd.Series(12,index=[1,2,3]), \"r\": pd.Series(24,index=[1,2,3])}\n",
    "var=pd.DataFrame(x)\n",
    "var[\"c\"]=var[\"s\"]+var[\"r\"]\n",
    "print(var)"
   ]
  },
  {
   "cell_type": "code",
   "execution_count": 19,
   "id": "284bdc5f",
   "metadata": {},
   "outputs": [
    {
     "name": "stdout",
     "output_type": "stream",
     "text": [
      "    s   r   c   bool\n",
      "1  12  24  36  False\n",
      "2  12  24  36  False\n",
      "3  12  24  36  False\n"
     ]
    }
   ],
   "source": [
    "x={\"s\":pd.Series(12,index=[1,2,3]), \"r\": pd.Series(24,index=[1,2,3])}\n",
    "var=pd.DataFrame(x)\n",
    "var[\"c\"]=var[\"s\"]+var[\"r\"]\n",
    "var[\"bool\"] = var[\"s\"]>20\n",
    "print(var)"
   ]
  },
  {
   "cell_type": "code",
   "execution_count": 20,
   "id": "0b6cb607",
   "metadata": {},
   "outputs": [
    {
     "name": "stdout",
     "output_type": "stream",
     "text": [
      "    s  somenum   r\n",
      "1  12       12  24\n",
      "2  12       25  24\n",
      "3  12       75  24\n"
     ]
    }
   ],
   "source": [
    "x={\"s\":pd.Series(12,index=[1,2,3]), \"r\": pd.Series(24,index=[1,2,3])}\n",
    "var=pd.DataFrame(x)\n",
    "var.insert(1, \"somenum\", [12,25,75])\n",
    "print(var)"
   ]
  },
  {
   "cell_type": "code",
   "execution_count": 21,
   "id": "bc55fd09",
   "metadata": {},
   "outputs": [
    {
     "name": "stdout",
     "output_type": "stream",
     "text": [
      "    s  somenum   r\n",
      "1  12       17  24\n",
      "2  12       17  24\n",
      "3  12       17  24\n"
     ]
    }
   ],
   "source": [
    "x={\"s\":pd.Series(12,index=[1,2,3]), \"r\": pd.Series(24,index=[1,2,3])}\n",
    "var=pd.DataFrame(x)\n",
    "var.insert(1, \"somenum\", var[\"s\"]+5)\n",
    "print(var)"
   ]
  },
  {
   "cell_type": "code",
   "execution_count": 24,
   "id": "724edaff",
   "metadata": {},
   "outputs": [
    {
     "name": "stdout",
     "output_type": "stream",
     "text": [
      "    s   r  kahitari\n",
      "1  12  24        12\n",
      "2  12  24        12\n",
      "3  12  24        12\n"
     ]
    }
   ],
   "source": [
    "x={\"s\":pd.Series(12,index=[1,2,3]), \"r\": pd.Series(24,index=[1,2,3])}\n",
    "var=pd.DataFrame(x)\n",
    "var[\"kahitari\"]=var[\"s\"][:3]\n",
    "print(var)"
   ]
  },
  {
   "cell_type": "code",
   "execution_count": 25,
   "id": "776d4e3e",
   "metadata": {},
   "outputs": [
    {
     "name": "stdout",
     "output_type": "stream",
     "text": [
      "   somenum\n",
      "1       12\n",
      "2       25\n",
      "3       75\n"
     ]
    }
   ],
   "source": [
    "x={\"s\":pd.Series(12,index=[1,2,3]), \"r\": pd.Series(24,index=[1,2,3])}\n",
    "var=pd.DataFrame(x)\n",
    "var.insert(1, \"somenum\", [12,25,75])\n",
    "var.pop(\"s\")\n",
    "del var[\"r\"]\n",
    "print(var)"
   ]
  },
  {
   "cell_type": "code",
   "execution_count": 26,
   "id": "c230900f",
   "metadata": {},
   "outputs": [
    {
     "name": "stdout",
     "output_type": "stream",
     "text": [
      "    s  somenum   r\n",
      "1  12       17  24\n",
      "2  12       17  24\n",
      "3  12       17  24\n"
     ]
    }
   ],
   "source": [
    "x={\"s\":pd.Series(12,index=[1,2,3]), \"r\": pd.Series(24,index=[1,2,3])}\n",
    "var=pd.DataFrame(x)\n",
    "var.insert(1, \"somenum\", var[\"s\"]+5)\n",
    "print(var)\n",
    "var.to_csv(\"jadu.csv\")"
   ]
  },
  {
   "cell_type": "code",
   "execution_count": 27,
   "id": "6b823f02",
   "metadata": {},
   "outputs": [
    {
     "name": "stdout",
     "output_type": "stream",
     "text": [
      "    s  somenum   r\n",
      "1  12       17  24\n",
      "2  12       17  24\n",
      "3  12       17  24\n"
     ]
    }
   ],
   "source": [
    "x={\"s\":pd.Series(12,index=[1,2,3]), \"r\": pd.Series(24,index=[1,2,3])}\n",
    "var=pd.DataFrame(x)\n",
    "var.insert(1, \"somenum\", var[\"s\"]+5)\n",
    "print(var)\n",
    "var.to_csv(\"jadu2.csv\", index=False, header=[1,2,3])"
   ]
  },
  {
   "cell_type": "code",
   "execution_count": 4,
   "id": "58675a2a",
   "metadata": {
    "scrolled": true
   },
   "outputs": [
    {
     "name": "stdout",
     "output_type": "stream",
     "text": [
      "                  ID        DATE                                 EMAIL\n",
      "0   324VLEQM7YZG84I2  02-10-2016  idell-silas80@sierra.urbinopesaro.it\n",
      "1   0JHE9GDRD0F7BYKE  02-10-2013                       tova344@wav.com\n",
      "2   74ATR8MFYFVAMQEN  10-09-1971       laquita_irizarry505@hotmail.com\n",
      "3   X5QR56LOM3874JHB  05-11-1996           lauriykmlanconn@teenage.com\n",
      "4   L6QILJX4PLV5TLJ6  29-06-2022                 ward68@dead.health.nz\n",
      "5   VLPVS8NY9KO8UUOQ  02-11-2016               imelda86549@hotmail.com\n",
      "6   UAA8Y8R8UX6H8PLT  04-01-1979           gussielogan5483@loading.com\n",
      "7   CE4QP5TJAZCRDSVN  04-04-2000             toya475@strengthening.com\n",
      "8   2SBLHRQBAIA5R5EU  29-10-2000                    elnora216@wise.com\n",
      "9   4HVOAR7R3240U79O  05-01-1995        brittani58730@subsidiaries.com\n",
      "10  5DBBE9DKAYZ42ZYG  20-01-2001             xenia.farrington@hair.com\n",
      "11  RFTBYJ0B8NHJLFUI  07-03-2023             cuc-ontiveros@hotmail.com\n",
      "12  VBJLEG3K1JI1OGH8  09-01-2015                        denyse4@cz.com\n",
      "13  41C1INQTA7C9ONGE  02-09-2016               hector.thorp@monroe.com\n",
      "14  ICQ6T24681L8E4RZ  06-11-2005            arnoldostephen@belarus.com\n",
      "15  PPJBJDHYIYCU3Y09  11-10-1972             michel_somers42@yahoo.com\n",
      "16  JLQCQ0SV00HT9RIG  28-12-1992          jarred-lawhorn401@answer.com\n",
      "17  YGT2FQQK60MTTDAU  16-09-1987           esperanza.deloach3@miss.com\n",
      "18  A8MJF5BSZQ4ZJQMN  24-11-1999              suzanbottoms@sublime.com\n",
      "19  JL78CFEJACI7286D  29-04-1996           joycelyn.chisolm0@yahoo.com\n",
      "20  OUV7IQJIHHRFR7CH  26-01-1984             florentina91698@yahoo.com\n",
      "21  XQMVIYXJC2MFZ06Q  23-12-2012           jule_hammond5556@hammer.com\n",
      "22  IV8EOL5B7V800ZBB  23-11-2022                     ok081@linking.com\n",
      "23  QFSS8VHI5FKU34CY  02-11-1996                   lucius063@gmail.com\n",
      "24  PX9BUSXEOM8XLL28  09-06-2012       riley_whitten6616@financing.com\n",
      "25  RTQ4PKUKXQP9STET  23-09-2007          miss-arcf.yamamoto.miyagi.jp\n",
      "26  9B1KDFKMZFLL39TZ  07-09-1982             luann-limon@yesterday.com\n",
      "27  U76F4RD9NMQY7MC1  15-03-1981                moshe3360@ministry.com\n",
      "28  IHRBGSKQO2F6KDXC  23-01-2017            starr.headley706@yahoo.com\n"
     ]
    }
   ],
   "source": [
    "import pandas as pd\n",
    "csv1 =pd.read_csv(\"C:\\\\Users\\\\athar\\\\Downloads\\\\file-coderstool.csv\")\n",
    "print(csv1)"
   ]
  },
  {
   "cell_type": "code",
   "execution_count": 5,
   "id": "aa47f15e",
   "metadata": {},
   "outputs": [
    {
     "name": "stdout",
     "output_type": "stream",
     "text": [
      "                 ID        DATE                                 EMAIL\n",
      "0  324VLEQM7YZG84I2  02-10-2016  idell-silas80@sierra.urbinopesaro.it\n",
      "1  0JHE9GDRD0F7BYKE  02-10-2013                       tova344@wav.com\n"
     ]
    }
   ],
   "source": [
    "import pandas as pd\n",
    "csv1 =pd.read_csv(\"C:\\\\Users\\\\athar\\\\Downloads\\\\file-coderstool.csv\", nrows=2)\n",
    "print(csv1)"
   ]
  },
  {
   "cell_type": "code",
   "execution_count": 6,
   "id": "bdeed277",
   "metadata": {},
   "outputs": [
    {
     "name": "stdout",
     "output_type": "stream",
     "text": [
      "                  ID                                 EMAIL\n",
      "0   324VLEQM7YZG84I2  idell-silas80@sierra.urbinopesaro.it\n",
      "1   0JHE9GDRD0F7BYKE                       tova344@wav.com\n",
      "2   74ATR8MFYFVAMQEN       laquita_irizarry505@hotmail.com\n",
      "3   X5QR56LOM3874JHB           lauriykmlanconn@teenage.com\n",
      "4   L6QILJX4PLV5TLJ6                 ward68@dead.health.nz\n",
      "5   VLPVS8NY9KO8UUOQ               imelda86549@hotmail.com\n",
      "6   UAA8Y8R8UX6H8PLT           gussielogan5483@loading.com\n",
      "7   CE4QP5TJAZCRDSVN             toya475@strengthening.com\n",
      "8   2SBLHRQBAIA5R5EU                    elnora216@wise.com\n",
      "9   4HVOAR7R3240U79O        brittani58730@subsidiaries.com\n",
      "10  5DBBE9DKAYZ42ZYG             xenia.farrington@hair.com\n",
      "11  RFTBYJ0B8NHJLFUI             cuc-ontiveros@hotmail.com\n",
      "12  VBJLEG3K1JI1OGH8                        denyse4@cz.com\n",
      "13  41C1INQTA7C9ONGE               hector.thorp@monroe.com\n",
      "14  ICQ6T24681L8E4RZ            arnoldostephen@belarus.com\n",
      "15  PPJBJDHYIYCU3Y09             michel_somers42@yahoo.com\n",
      "16  JLQCQ0SV00HT9RIG          jarred-lawhorn401@answer.com\n",
      "17  YGT2FQQK60MTTDAU           esperanza.deloach3@miss.com\n",
      "18  A8MJF5BSZQ4ZJQMN              suzanbottoms@sublime.com\n",
      "19  JL78CFEJACI7286D           joycelyn.chisolm0@yahoo.com\n",
      "20  OUV7IQJIHHRFR7CH             florentina91698@yahoo.com\n",
      "21  XQMVIYXJC2MFZ06Q           jule_hammond5556@hammer.com\n",
      "22  IV8EOL5B7V800ZBB                     ok081@linking.com\n",
      "23  QFSS8VHI5FKU34CY                   lucius063@gmail.com\n",
      "24  PX9BUSXEOM8XLL28       riley_whitten6616@financing.com\n",
      "25  RTQ4PKUKXQP9STET          miss-arcf.yamamoto.miyagi.jp\n",
      "26  9B1KDFKMZFLL39TZ             luann-limon@yesterday.com\n",
      "27  U76F4RD9NMQY7MC1                moshe3360@ministry.com\n",
      "28  IHRBGSKQO2F6KDXC            starr.headley706@yahoo.com\n"
     ]
    }
   ],
   "source": [
    "import pandas as pd\n",
    "csv1 =pd.read_csv(\"C:\\\\Users\\\\athar\\\\Downloads\\\\file-coderstool.csv\", usecols=[\"ID\", \"EMAIL\"])\n",
    "print(csv1)"
   ]
  },
  {
   "cell_type": "code",
   "execution_count": 7,
   "id": "c5480c09",
   "metadata": {},
   "outputs": [
    {
     "name": "stdout",
     "output_type": "stream",
     "text": [
      "                  ID        DATE                            EMAIL\n",
      "0   X5QR56LOM3874JHB  05-11-1996      lauriykmlanconn@teenage.com\n",
      "1   L6QILJX4PLV5TLJ6  29-06-2022            ward68@dead.health.nz\n",
      "2   VLPVS8NY9KO8UUOQ  02-11-2016          imelda86549@hotmail.com\n",
      "3   UAA8Y8R8UX6H8PLT  04-01-1979      gussielogan5483@loading.com\n",
      "4   CE4QP5TJAZCRDSVN  04-04-2000        toya475@strengthening.com\n",
      "5   2SBLHRQBAIA5R5EU  29-10-2000               elnora216@wise.com\n",
      "6   4HVOAR7R3240U79O  05-01-1995   brittani58730@subsidiaries.com\n",
      "7   5DBBE9DKAYZ42ZYG  20-01-2001        xenia.farrington@hair.com\n",
      "8   RFTBYJ0B8NHJLFUI  07-03-2023        cuc-ontiveros@hotmail.com\n",
      "9   VBJLEG3K1JI1OGH8  09-01-2015                   denyse4@cz.com\n",
      "10  41C1INQTA7C9ONGE  02-09-2016          hector.thorp@monroe.com\n",
      "11  ICQ6T24681L8E4RZ  06-11-2005       arnoldostephen@belarus.com\n",
      "12  PPJBJDHYIYCU3Y09  11-10-1972        michel_somers42@yahoo.com\n",
      "13  JLQCQ0SV00HT9RIG  28-12-1992     jarred-lawhorn401@answer.com\n",
      "14  YGT2FQQK60MTTDAU  16-09-1987      esperanza.deloach3@miss.com\n",
      "15  A8MJF5BSZQ4ZJQMN  24-11-1999         suzanbottoms@sublime.com\n",
      "16  JL78CFEJACI7286D  29-04-1996      joycelyn.chisolm0@yahoo.com\n",
      "17  OUV7IQJIHHRFR7CH  26-01-1984        florentina91698@yahoo.com\n",
      "18  XQMVIYXJC2MFZ06Q  23-12-2012      jule_hammond5556@hammer.com\n",
      "19  IV8EOL5B7V800ZBB  23-11-2022                ok081@linking.com\n",
      "20  QFSS8VHI5FKU34CY  02-11-1996              lucius063@gmail.com\n",
      "21  PX9BUSXEOM8XLL28  09-06-2012  riley_whitten6616@financing.com\n",
      "22  RTQ4PKUKXQP9STET  23-09-2007     miss-arcf.yamamoto.miyagi.jp\n",
      "23  9B1KDFKMZFLL39TZ  07-09-1982        luann-limon@yesterday.com\n",
      "24  U76F4RD9NMQY7MC1  15-03-1981           moshe3360@ministry.com\n",
      "25  IHRBGSKQO2F6KDXC  23-01-2017       starr.headley706@yahoo.com\n"
     ]
    }
   ],
   "source": [
    "import pandas as pd\n",
    "csv1 =pd.read_csv(\"C:\\\\Users\\\\athar\\\\Downloads\\\\file-coderstool.csv\", skiprows=[1,2,3])\n",
    "print(csv1)"
   ]
  },
  {
   "cell_type": "code",
   "execution_count": 8,
   "id": "95c9910b",
   "metadata": {},
   "outputs": [
    {
     "name": "stdout",
     "output_type": "stream",
     "text": [
      "                          ID                                 EMAIL\n",
      "DATE                                                              \n",
      "02-10-2016  324VLEQM7YZG84I2  idell-silas80@sierra.urbinopesaro.it\n",
      "02-10-2013  0JHE9GDRD0F7BYKE                       tova344@wav.com\n",
      "10-09-1971  74ATR8MFYFVAMQEN       laquita_irizarry505@hotmail.com\n",
      "05-11-1996  X5QR56LOM3874JHB           lauriykmlanconn@teenage.com\n",
      "29-06-2022  L6QILJX4PLV5TLJ6                 ward68@dead.health.nz\n",
      "02-11-2016  VLPVS8NY9KO8UUOQ               imelda86549@hotmail.com\n",
      "04-01-1979  UAA8Y8R8UX6H8PLT           gussielogan5483@loading.com\n",
      "04-04-2000  CE4QP5TJAZCRDSVN             toya475@strengthening.com\n",
      "29-10-2000  2SBLHRQBAIA5R5EU                    elnora216@wise.com\n",
      "05-01-1995  4HVOAR7R3240U79O        brittani58730@subsidiaries.com\n",
      "20-01-2001  5DBBE9DKAYZ42ZYG             xenia.farrington@hair.com\n",
      "07-03-2023  RFTBYJ0B8NHJLFUI             cuc-ontiveros@hotmail.com\n",
      "09-01-2015  VBJLEG3K1JI1OGH8                        denyse4@cz.com\n",
      "02-09-2016  41C1INQTA7C9ONGE               hector.thorp@monroe.com\n",
      "06-11-2005  ICQ6T24681L8E4RZ            arnoldostephen@belarus.com\n",
      "11-10-1972  PPJBJDHYIYCU3Y09             michel_somers42@yahoo.com\n",
      "28-12-1992  JLQCQ0SV00HT9RIG          jarred-lawhorn401@answer.com\n",
      "16-09-1987  YGT2FQQK60MTTDAU           esperanza.deloach3@miss.com\n",
      "24-11-1999  A8MJF5BSZQ4ZJQMN              suzanbottoms@sublime.com\n",
      "29-04-1996  JL78CFEJACI7286D           joycelyn.chisolm0@yahoo.com\n",
      "26-01-1984  OUV7IQJIHHRFR7CH             florentina91698@yahoo.com\n",
      "23-12-2012  XQMVIYXJC2MFZ06Q           jule_hammond5556@hammer.com\n",
      "23-11-2022  IV8EOL5B7V800ZBB                     ok081@linking.com\n",
      "02-11-1996  QFSS8VHI5FKU34CY                   lucius063@gmail.com\n",
      "09-06-2012  PX9BUSXEOM8XLL28       riley_whitten6616@financing.com\n",
      "23-09-2007  RTQ4PKUKXQP9STET          miss-arcf.yamamoto.miyagi.jp\n",
      "07-09-1982  9B1KDFKMZFLL39TZ             luann-limon@yesterday.com\n",
      "15-03-1981  U76F4RD9NMQY7MC1                moshe3360@ministry.com\n",
      "23-01-2017  IHRBGSKQO2F6KDXC            starr.headley706@yahoo.com\n"
     ]
    }
   ],
   "source": [
    "import pandas as pd\n",
    "csv1 =pd.read_csv(\"C:\\\\Users\\\\athar\\\\Downloads\\\\file-coderstool.csv\", index_col=\"DATE\")\n",
    "print(csv1)"
   ]
  },
  {
   "cell_type": "code",
   "execution_count": 9,
   "id": "a75869df",
   "metadata": {},
   "outputs": [
    {
     "name": "stdout",
     "output_type": "stream",
     "text": [
      "    0JHE9GDRD0F7BYKE  02-10-2013                  tova344@wav.com\n",
      "0   74ATR8MFYFVAMQEN  10-09-1971  laquita_irizarry505@hotmail.com\n",
      "1   X5QR56LOM3874JHB  05-11-1996      lauriykmlanconn@teenage.com\n",
      "2   L6QILJX4PLV5TLJ6  29-06-2022            ward68@dead.health.nz\n",
      "3   VLPVS8NY9KO8UUOQ  02-11-2016          imelda86549@hotmail.com\n",
      "4   UAA8Y8R8UX6H8PLT  04-01-1979      gussielogan5483@loading.com\n",
      "5   CE4QP5TJAZCRDSVN  04-04-2000        toya475@strengthening.com\n",
      "6   2SBLHRQBAIA5R5EU  29-10-2000               elnora216@wise.com\n",
      "7   4HVOAR7R3240U79O  05-01-1995   brittani58730@subsidiaries.com\n",
      "8   5DBBE9DKAYZ42ZYG  20-01-2001        xenia.farrington@hair.com\n",
      "9   RFTBYJ0B8NHJLFUI  07-03-2023        cuc-ontiveros@hotmail.com\n",
      "10  VBJLEG3K1JI1OGH8  09-01-2015                   denyse4@cz.com\n",
      "11  41C1INQTA7C9ONGE  02-09-2016          hector.thorp@monroe.com\n",
      "12  ICQ6T24681L8E4RZ  06-11-2005       arnoldostephen@belarus.com\n",
      "13  PPJBJDHYIYCU3Y09  11-10-1972        michel_somers42@yahoo.com\n",
      "14  JLQCQ0SV00HT9RIG  28-12-1992     jarred-lawhorn401@answer.com\n",
      "15  YGT2FQQK60MTTDAU  16-09-1987      esperanza.deloach3@miss.com\n",
      "16  A8MJF5BSZQ4ZJQMN  24-11-1999         suzanbottoms@sublime.com\n",
      "17  JL78CFEJACI7286D  29-04-1996      joycelyn.chisolm0@yahoo.com\n",
      "18  OUV7IQJIHHRFR7CH  26-01-1984        florentina91698@yahoo.com\n",
      "19  XQMVIYXJC2MFZ06Q  23-12-2012      jule_hammond5556@hammer.com\n",
      "20  IV8EOL5B7V800ZBB  23-11-2022                ok081@linking.com\n",
      "21  QFSS8VHI5FKU34CY  02-11-1996              lucius063@gmail.com\n",
      "22  PX9BUSXEOM8XLL28  09-06-2012  riley_whitten6616@financing.com\n",
      "23  RTQ4PKUKXQP9STET  23-09-2007     miss-arcf.yamamoto.miyagi.jp\n",
      "24  9B1KDFKMZFLL39TZ  07-09-1982        luann-limon@yesterday.com\n",
      "25  U76F4RD9NMQY7MC1  15-03-1981           moshe3360@ministry.com\n",
      "26  IHRBGSKQO2F6KDXC  23-01-2017       starr.headley706@yahoo.com\n"
     ]
    }
   ],
   "source": [
    "import pandas as pd\n",
    "csv1 =pd.read_csv(\"C:\\\\Users\\\\athar\\\\Downloads\\\\file-coderstool.csv\", header=2)\n",
    "print(csv1)"
   ]
  },
  {
   "cell_type": "code",
   "execution_count": 10,
   "id": "c37027bc",
   "metadata": {},
   "outputs": [
    {
     "name": "stdout",
     "output_type": "stream",
     "text": [
      "                col1        col2                                  col3\n",
      "0                 ID        DATE                                 EMAIL\n",
      "1   324VLEQM7YZG84I2  02-10-2016  idell-silas80@sierra.urbinopesaro.it\n",
      "2   0JHE9GDRD0F7BYKE  02-10-2013                       tova344@wav.com\n",
      "3   74ATR8MFYFVAMQEN  10-09-1971       laquita_irizarry505@hotmail.com\n",
      "4   X5QR56LOM3874JHB  05-11-1996           lauriykmlanconn@teenage.com\n",
      "5   L6QILJX4PLV5TLJ6  29-06-2022                 ward68@dead.health.nz\n",
      "6   VLPVS8NY9KO8UUOQ  02-11-2016               imelda86549@hotmail.com\n",
      "7   UAA8Y8R8UX6H8PLT  04-01-1979           gussielogan5483@loading.com\n",
      "8   CE4QP5TJAZCRDSVN  04-04-2000             toya475@strengthening.com\n",
      "9   2SBLHRQBAIA5R5EU  29-10-2000                    elnora216@wise.com\n",
      "10  4HVOAR7R3240U79O  05-01-1995        brittani58730@subsidiaries.com\n",
      "11  5DBBE9DKAYZ42ZYG  20-01-2001             xenia.farrington@hair.com\n",
      "12  RFTBYJ0B8NHJLFUI  07-03-2023             cuc-ontiveros@hotmail.com\n",
      "13  VBJLEG3K1JI1OGH8  09-01-2015                        denyse4@cz.com\n",
      "14  41C1INQTA7C9ONGE  02-09-2016               hector.thorp@monroe.com\n",
      "15  ICQ6T24681L8E4RZ  06-11-2005            arnoldostephen@belarus.com\n",
      "16  PPJBJDHYIYCU3Y09  11-10-1972             michel_somers42@yahoo.com\n",
      "17  JLQCQ0SV00HT9RIG  28-12-1992          jarred-lawhorn401@answer.com\n",
      "18  YGT2FQQK60MTTDAU  16-09-1987           esperanza.deloach3@miss.com\n",
      "19  A8MJF5BSZQ4ZJQMN  24-11-1999              suzanbottoms@sublime.com\n",
      "20  JL78CFEJACI7286D  29-04-1996           joycelyn.chisolm0@yahoo.com\n",
      "21  OUV7IQJIHHRFR7CH  26-01-1984             florentina91698@yahoo.com\n",
      "22  XQMVIYXJC2MFZ06Q  23-12-2012           jule_hammond5556@hammer.com\n",
      "23  IV8EOL5B7V800ZBB  23-11-2022                     ok081@linking.com\n",
      "24  QFSS8VHI5FKU34CY  02-11-1996                   lucius063@gmail.com\n",
      "25  PX9BUSXEOM8XLL28  09-06-2012       riley_whitten6616@financing.com\n",
      "26  RTQ4PKUKXQP9STET  23-09-2007          miss-arcf.yamamoto.miyagi.jp\n",
      "27  9B1KDFKMZFLL39TZ  07-09-1982             luann-limon@yesterday.com\n",
      "28  U76F4RD9NMQY7MC1  15-03-1981                moshe3360@ministry.com\n",
      "29  IHRBGSKQO2F6KDXC  23-01-2017            starr.headley706@yahoo.com\n"
     ]
    }
   ],
   "source": [
    "import pandas as pd\n",
    "csv1 =pd.read_csv(\"C:\\\\Users\\\\athar\\\\Downloads\\\\file-coderstool.csv\", names=[\"col1\", \"col2\", \"col3\"])\n",
    "print(csv1)"
   ]
  },
  {
   "cell_type": "code",
   "execution_count": 14,
   "id": "eb0b8119",
   "metadata": {},
   "outputs": [
    {
     "data": {
      "text/html": [
       "<div>\n",
       "<style scoped>\n",
       "    .dataframe tbody tr th:only-of-type {\n",
       "        vertical-align: middle;\n",
       "    }\n",
       "\n",
       "    .dataframe tbody tr th {\n",
       "        vertical-align: top;\n",
       "    }\n",
       "\n",
       "    .dataframe thead th {\n",
       "        text-align: right;\n",
       "    }\n",
       "</style>\n",
       "<table border=\"1\" class=\"dataframe\">\n",
       "  <thead>\n",
       "    <tr style=\"text-align: right;\">\n",
       "      <th></th>\n",
       "      <th>a</th>\n",
       "      <th>b</th>\n",
       "      <th>c</th>\n",
       "    </tr>\n",
       "  </thead>\n",
       "  <tbody>\n",
       "    <tr>\n",
       "      <th>0</th>\n",
       "      <td>1</td>\n",
       "      <td>5</td>\n",
       "      <td>11</td>\n",
       "    </tr>\n",
       "    <tr>\n",
       "      <th>1</th>\n",
       "      <td>2</td>\n",
       "      <td>6</td>\n",
       "      <td>12</td>\n",
       "    </tr>\n",
       "    <tr>\n",
       "      <th>2</th>\n",
       "      <td>3</td>\n",
       "      <td>7</td>\n",
       "      <td>13</td>\n",
       "    </tr>\n",
       "  </tbody>\n",
       "</table>\n",
       "</div>"
      ],
      "text/plain": [
       "   a  b   c\n",
       "0  1  5  11\n",
       "1  2  6  12\n",
       "2  3  7  13"
      ]
     },
     "execution_count": 14,
     "metadata": {},
     "output_type": "execute_result"
    }
   ],
   "source": [
    "import pandas as pd\n",
    "var1= pd.DataFrame({\"a\": [1,2,3,4], \"b\":[5,6,7,8]})\n",
    "var2= pd.DataFrame({\"a\": [1,2,3,5], \"c\":[11,12,13,14]})\n",
    "pd.merge(var1, var2, on=\"a\")"
   ]
  },
  {
   "cell_type": "code",
   "execution_count": 22,
   "id": "19a37411",
   "metadata": {},
   "outputs": [
    {
     "data": {
      "text/html": [
       "<div>\n",
       "<style scoped>\n",
       "    .dataframe tbody tr th:only-of-type {\n",
       "        vertical-align: middle;\n",
       "    }\n",
       "\n",
       "    .dataframe tbody tr th {\n",
       "        vertical-align: top;\n",
       "    }\n",
       "\n",
       "    .dataframe thead th {\n",
       "        text-align: right;\n",
       "    }\n",
       "</style>\n",
       "<table border=\"1\" class=\"dataframe\">\n",
       "  <thead>\n",
       "    <tr style=\"text-align: right;\">\n",
       "      <th></th>\n",
       "      <th>a</th>\n",
       "      <th>b</th>\n",
       "      <th>c</th>\n",
       "      <th>_merge</th>\n",
       "    </tr>\n",
       "  </thead>\n",
       "  <tbody>\n",
       "    <tr>\n",
       "      <th>0</th>\n",
       "      <td>1</td>\n",
       "      <td>5</td>\n",
       "      <td>11</td>\n",
       "      <td>both</td>\n",
       "    </tr>\n",
       "    <tr>\n",
       "      <th>1</th>\n",
       "      <td>2</td>\n",
       "      <td>6</td>\n",
       "      <td>12</td>\n",
       "      <td>both</td>\n",
       "    </tr>\n",
       "    <tr>\n",
       "      <th>2</th>\n",
       "      <td>3</td>\n",
       "      <td>7</td>\n",
       "      <td>13</td>\n",
       "      <td>both</td>\n",
       "    </tr>\n",
       "  </tbody>\n",
       "</table>\n",
       "</div>"
      ],
      "text/plain": [
       "   a  b   c _merge\n",
       "0  1  5  11   both\n",
       "1  2  6  12   both\n",
       "2  3  7  13   both"
      ]
     },
     "execution_count": 22,
     "metadata": {},
     "output_type": "execute_result"
    }
   ],
   "source": [
    "import pandas as pd\n",
    "var1= pd.DataFrame({\"a\": [1,2,3,4], \"b\":[5,6,7,8]})\n",
    "var2= pd.DataFrame({\"a\": [1,2,3,5], \"c\":[11,12,13,14]})\n",
    "pd.merge(var1, var2, on=\"a\", how=\"inner\", indicator=True)"
   ]
  },
  {
   "cell_type": "code",
   "execution_count": 21,
   "id": "c1ecb84f",
   "metadata": {},
   "outputs": [
    {
     "data": {
      "text/html": [
       "<div>\n",
       "<style scoped>\n",
       "    .dataframe tbody tr th:only-of-type {\n",
       "        vertical-align: middle;\n",
       "    }\n",
       "\n",
       "    .dataframe tbody tr th {\n",
       "        vertical-align: top;\n",
       "    }\n",
       "\n",
       "    .dataframe thead th {\n",
       "        text-align: right;\n",
       "    }\n",
       "</style>\n",
       "<table border=\"1\" class=\"dataframe\">\n",
       "  <thead>\n",
       "    <tr style=\"text-align: right;\">\n",
       "      <th></th>\n",
       "      <th>a</th>\n",
       "      <th>b</th>\n",
       "      <th>c</th>\n",
       "      <th>_merge</th>\n",
       "    </tr>\n",
       "  </thead>\n",
       "  <tbody>\n",
       "    <tr>\n",
       "      <th>0</th>\n",
       "      <td>1</td>\n",
       "      <td>5.0</td>\n",
       "      <td>11.0</td>\n",
       "      <td>both</td>\n",
       "    </tr>\n",
       "    <tr>\n",
       "      <th>1</th>\n",
       "      <td>2</td>\n",
       "      <td>6.0</td>\n",
       "      <td>12.0</td>\n",
       "      <td>both</td>\n",
       "    </tr>\n",
       "    <tr>\n",
       "      <th>2</th>\n",
       "      <td>3</td>\n",
       "      <td>7.0</td>\n",
       "      <td>13.0</td>\n",
       "      <td>both</td>\n",
       "    </tr>\n",
       "    <tr>\n",
       "      <th>3</th>\n",
       "      <td>4</td>\n",
       "      <td>8.0</td>\n",
       "      <td>NaN</td>\n",
       "      <td>left_only</td>\n",
       "    </tr>\n",
       "    <tr>\n",
       "      <th>4</th>\n",
       "      <td>5</td>\n",
       "      <td>NaN</td>\n",
       "      <td>14.0</td>\n",
       "      <td>right_only</td>\n",
       "    </tr>\n",
       "  </tbody>\n",
       "</table>\n",
       "</div>"
      ],
      "text/plain": [
       "   a    b     c      _merge\n",
       "0  1  5.0  11.0        both\n",
       "1  2  6.0  12.0        both\n",
       "2  3  7.0  13.0        both\n",
       "3  4  8.0   NaN   left_only\n",
       "4  5  NaN  14.0  right_only"
      ]
     },
     "execution_count": 21,
     "metadata": {},
     "output_type": "execute_result"
    }
   ],
   "source": [
    "import pandas as pd\n",
    "var1= pd.DataFrame({\"a\": [1,2,3,4], \"b\":[5,6,7,8]})\n",
    "var2= pd.DataFrame({\"a\": [1,2,3,5], \"c\":[11,12,13,14]})\n",
    "pd.merge(var1, var2, on=\"a\", how=\"outer\",indicator=True)"
   ]
  },
  {
   "cell_type": "code",
   "execution_count": 20,
   "id": "97d7f597",
   "metadata": {},
   "outputs": [
    {
     "data": {
      "text/html": [
       "<div>\n",
       "<style scoped>\n",
       "    .dataframe tbody tr th:only-of-type {\n",
       "        vertical-align: middle;\n",
       "    }\n",
       "\n",
       "    .dataframe tbody tr th {\n",
       "        vertical-align: top;\n",
       "    }\n",
       "\n",
       "    .dataframe thead th {\n",
       "        text-align: right;\n",
       "    }\n",
       "</style>\n",
       "<table border=\"1\" class=\"dataframe\">\n",
       "  <thead>\n",
       "    <tr style=\"text-align: right;\">\n",
       "      <th></th>\n",
       "      <th>a</th>\n",
       "      <th>b</th>\n",
       "      <th>c</th>\n",
       "      <th>_merge</th>\n",
       "    </tr>\n",
       "  </thead>\n",
       "  <tbody>\n",
       "    <tr>\n",
       "      <th>0</th>\n",
       "      <td>1</td>\n",
       "      <td>5</td>\n",
       "      <td>11.0</td>\n",
       "      <td>both</td>\n",
       "    </tr>\n",
       "    <tr>\n",
       "      <th>1</th>\n",
       "      <td>2</td>\n",
       "      <td>6</td>\n",
       "      <td>12.0</td>\n",
       "      <td>both</td>\n",
       "    </tr>\n",
       "    <tr>\n",
       "      <th>2</th>\n",
       "      <td>3</td>\n",
       "      <td>7</td>\n",
       "      <td>13.0</td>\n",
       "      <td>both</td>\n",
       "    </tr>\n",
       "    <tr>\n",
       "      <th>3</th>\n",
       "      <td>4</td>\n",
       "      <td>8</td>\n",
       "      <td>NaN</td>\n",
       "      <td>left_only</td>\n",
       "    </tr>\n",
       "  </tbody>\n",
       "</table>\n",
       "</div>"
      ],
      "text/plain": [
       "   a  b     c     _merge\n",
       "0  1  5  11.0       both\n",
       "1  2  6  12.0       both\n",
       "2  3  7  13.0       both\n",
       "3  4  8   NaN  left_only"
      ]
     },
     "execution_count": 20,
     "metadata": {},
     "output_type": "execute_result"
    }
   ],
   "source": [
    "import pandas as pd\n",
    "var1= pd.DataFrame({\"a\": [1,2,3,4], \"b\":[5,6,7,8]})\n",
    "var2= pd.DataFrame({\"a\": [1,2,3,5], \"c\":[11,12,13,14]})\n",
    "pd.merge(var1, var2, on=\"a\", how=\"left\",indicator=True)"
   ]
  },
  {
   "cell_type": "code",
   "execution_count": 19,
   "id": "3c8b2a7c",
   "metadata": {},
   "outputs": [
    {
     "data": {
      "text/html": [
       "<div>\n",
       "<style scoped>\n",
       "    .dataframe tbody tr th:only-of-type {\n",
       "        vertical-align: middle;\n",
       "    }\n",
       "\n",
       "    .dataframe tbody tr th {\n",
       "        vertical-align: top;\n",
       "    }\n",
       "\n",
       "    .dataframe thead th {\n",
       "        text-align: right;\n",
       "    }\n",
       "</style>\n",
       "<table border=\"1\" class=\"dataframe\">\n",
       "  <thead>\n",
       "    <tr style=\"text-align: right;\">\n",
       "      <th></th>\n",
       "      <th>a</th>\n",
       "      <th>b</th>\n",
       "      <th>c</th>\n",
       "      <th>_merge</th>\n",
       "    </tr>\n",
       "  </thead>\n",
       "  <tbody>\n",
       "    <tr>\n",
       "      <th>0</th>\n",
       "      <td>1</td>\n",
       "      <td>5.0</td>\n",
       "      <td>11</td>\n",
       "      <td>both</td>\n",
       "    </tr>\n",
       "    <tr>\n",
       "      <th>1</th>\n",
       "      <td>2</td>\n",
       "      <td>6.0</td>\n",
       "      <td>12</td>\n",
       "      <td>both</td>\n",
       "    </tr>\n",
       "    <tr>\n",
       "      <th>2</th>\n",
       "      <td>3</td>\n",
       "      <td>7.0</td>\n",
       "      <td>13</td>\n",
       "      <td>both</td>\n",
       "    </tr>\n",
       "    <tr>\n",
       "      <th>3</th>\n",
       "      <td>5</td>\n",
       "      <td>NaN</td>\n",
       "      <td>14</td>\n",
       "      <td>right_only</td>\n",
       "    </tr>\n",
       "  </tbody>\n",
       "</table>\n",
       "</div>"
      ],
      "text/plain": [
       "   a    b   c      _merge\n",
       "0  1  5.0  11        both\n",
       "1  2  6.0  12        both\n",
       "2  3  7.0  13        both\n",
       "3  5  NaN  14  right_only"
      ]
     },
     "execution_count": 19,
     "metadata": {},
     "output_type": "execute_result"
    }
   ],
   "source": [
    "import pandas as pd\n",
    "var1= pd.DataFrame({\"a\": [1,2,3,4], \"b\":[5,6,7,8]})\n",
    "var2= pd.DataFrame({\"a\": [1,2,3,5], \"c\":[11,12,13,14]})\n",
    "pd.merge(var1, var2, on=\"a\", how=\"right\",indicator=True)"
   ]
  },
  {
   "cell_type": "code",
   "execution_count": 25,
   "id": "27b7c87a",
   "metadata": {},
   "outputs": [
    {
     "data": {
      "text/html": [
       "<div>\n",
       "<style scoped>\n",
       "    .dataframe tbody tr th:only-of-type {\n",
       "        vertical-align: middle;\n",
       "    }\n",
       "\n",
       "    .dataframe tbody tr th {\n",
       "        vertical-align: top;\n",
       "    }\n",
       "\n",
       "    .dataframe thead th {\n",
       "        text-align: right;\n",
       "    }\n",
       "</style>\n",
       "<table border=\"1\" class=\"dataframe\">\n",
       "  <thead>\n",
       "    <tr style=\"text-align: right;\">\n",
       "      <th></th>\n",
       "      <th>a_x</th>\n",
       "      <th>b</th>\n",
       "      <th>a_y</th>\n",
       "      <th>c</th>\n",
       "    </tr>\n",
       "  </thead>\n",
       "  <tbody>\n",
       "    <tr>\n",
       "      <th>0</th>\n",
       "      <td>1</td>\n",
       "      <td>5</td>\n",
       "      <td>1</td>\n",
       "      <td>11</td>\n",
       "    </tr>\n",
       "    <tr>\n",
       "      <th>1</th>\n",
       "      <td>2</td>\n",
       "      <td>6</td>\n",
       "      <td>2</td>\n",
       "      <td>12</td>\n",
       "    </tr>\n",
       "    <tr>\n",
       "      <th>2</th>\n",
       "      <td>3</td>\n",
       "      <td>7</td>\n",
       "      <td>3</td>\n",
       "      <td>13</td>\n",
       "    </tr>\n",
       "    <tr>\n",
       "      <th>3</th>\n",
       "      <td>4</td>\n",
       "      <td>8</td>\n",
       "      <td>5</td>\n",
       "      <td>14</td>\n",
       "    </tr>\n",
       "  </tbody>\n",
       "</table>\n",
       "</div>"
      ],
      "text/plain": [
       "   a_x  b  a_y   c\n",
       "0    1  5    1  11\n",
       "1    2  6    2  12\n",
       "2    3  7    3  13\n",
       "3    4  8    5  14"
      ]
     },
     "execution_count": 25,
     "metadata": {},
     "output_type": "execute_result"
    }
   ],
   "source": [
    "import pandas as pd\n",
    "var1= pd.DataFrame({\"a\": [1,2,3,4], \"b\":[5,6,7,8]})\n",
    "var2= pd.DataFrame({\"a\": [1,2,3,5], \"c\":[11,12,13,14]})\n",
    "pd.merge(var1, var2, left_index=True, right_index=True)"
   ]
  },
  {
   "cell_type": "code",
   "execution_count": 26,
   "id": "cd2f0701",
   "metadata": {},
   "outputs": [
    {
     "data": {
      "text/html": [
       "<div>\n",
       "<style scoped>\n",
       "    .dataframe tbody tr th:only-of-type {\n",
       "        vertical-align: middle;\n",
       "    }\n",
       "\n",
       "    .dataframe tbody tr th {\n",
       "        vertical-align: top;\n",
       "    }\n",
       "\n",
       "    .dataframe thead th {\n",
       "        text-align: right;\n",
       "    }\n",
       "</style>\n",
       "<table border=\"1\" class=\"dataframe\">\n",
       "  <thead>\n",
       "    <tr style=\"text-align: right;\">\n",
       "      <th></th>\n",
       "      <th>aname</th>\n",
       "      <th>b</th>\n",
       "      <th>aid</th>\n",
       "      <th>c</th>\n",
       "    </tr>\n",
       "  </thead>\n",
       "  <tbody>\n",
       "    <tr>\n",
       "      <th>0</th>\n",
       "      <td>1</td>\n",
       "      <td>5</td>\n",
       "      <td>1</td>\n",
       "      <td>11</td>\n",
       "    </tr>\n",
       "    <tr>\n",
       "      <th>1</th>\n",
       "      <td>2</td>\n",
       "      <td>6</td>\n",
       "      <td>2</td>\n",
       "      <td>12</td>\n",
       "    </tr>\n",
       "    <tr>\n",
       "      <th>2</th>\n",
       "      <td>3</td>\n",
       "      <td>7</td>\n",
       "      <td>3</td>\n",
       "      <td>13</td>\n",
       "    </tr>\n",
       "    <tr>\n",
       "      <th>3</th>\n",
       "      <td>4</td>\n",
       "      <td>8</td>\n",
       "      <td>5</td>\n",
       "      <td>14</td>\n",
       "    </tr>\n",
       "  </tbody>\n",
       "</table>\n",
       "</div>"
      ],
      "text/plain": [
       "   aname  b  aid   c\n",
       "0      1  5    1  11\n",
       "1      2  6    2  12\n",
       "2      3  7    3  13\n",
       "3      4  8    5  14"
      ]
     },
     "execution_count": 26,
     "metadata": {},
     "output_type": "execute_result"
    }
   ],
   "source": [
    "import pandas as pd\n",
    "var1= pd.DataFrame({\"a\": [1,2,3,4], \"b\":[5,6,7,8]})\n",
    "var2= pd.DataFrame({\"a\": [1,2,3,5], \"c\":[11,12,13,14]})\n",
    "pd.merge(var1, var2, left_index=True, right_index=True, suffixes=[\"name\", \"id\"])"
   ]
  },
  {
   "cell_type": "code",
   "execution_count": 28,
   "id": "24547766",
   "metadata": {
    "scrolled": true
   },
   "outputs": [
    {
     "data": {
      "text/plain": [
       "0    1\n",
       "1    2\n",
       "2    3\n",
       "3    4\n",
       "0    5\n",
       "1    6\n",
       "2    7\n",
       "3    8\n",
       "dtype: int64"
      ]
     },
     "execution_count": 28,
     "metadata": {},
     "output_type": "execute_result"
    }
   ],
   "source": [
    "sr1=pd.Series([1,2,3,4])\n",
    "sr2=pd.Series([5,6,7,8])\n",
    "pd.concat([sr1,sr2])"
   ]
  },
  {
   "cell_type": "code",
   "execution_count": 29,
   "id": "e507cf15",
   "metadata": {},
   "outputs": [
    {
     "data": {
      "text/html": [
       "<div>\n",
       "<style scoped>\n",
       "    .dataframe tbody tr th:only-of-type {\n",
       "        vertical-align: middle;\n",
       "    }\n",
       "\n",
       "    .dataframe tbody tr th {\n",
       "        vertical-align: top;\n",
       "    }\n",
       "\n",
       "    .dataframe thead th {\n",
       "        text-align: right;\n",
       "    }\n",
       "</style>\n",
       "<table border=\"1\" class=\"dataframe\">\n",
       "  <thead>\n",
       "    <tr style=\"text-align: right;\">\n",
       "      <th></th>\n",
       "      <th>a</th>\n",
       "      <th>b</th>\n",
       "      <th>c</th>\n",
       "    </tr>\n",
       "  </thead>\n",
       "  <tbody>\n",
       "    <tr>\n",
       "      <th>0</th>\n",
       "      <td>1</td>\n",
       "      <td>5.0</td>\n",
       "      <td>NaN</td>\n",
       "    </tr>\n",
       "    <tr>\n",
       "      <th>1</th>\n",
       "      <td>2</td>\n",
       "      <td>6.0</td>\n",
       "      <td>NaN</td>\n",
       "    </tr>\n",
       "    <tr>\n",
       "      <th>2</th>\n",
       "      <td>3</td>\n",
       "      <td>7.0</td>\n",
       "      <td>NaN</td>\n",
       "    </tr>\n",
       "    <tr>\n",
       "      <th>3</th>\n",
       "      <td>4</td>\n",
       "      <td>8.0</td>\n",
       "      <td>NaN</td>\n",
       "    </tr>\n",
       "    <tr>\n",
       "      <th>0</th>\n",
       "      <td>1</td>\n",
       "      <td>NaN</td>\n",
       "      <td>11.0</td>\n",
       "    </tr>\n",
       "    <tr>\n",
       "      <th>1</th>\n",
       "      <td>2</td>\n",
       "      <td>NaN</td>\n",
       "      <td>12.0</td>\n",
       "    </tr>\n",
       "    <tr>\n",
       "      <th>2</th>\n",
       "      <td>3</td>\n",
       "      <td>NaN</td>\n",
       "      <td>13.0</td>\n",
       "    </tr>\n",
       "    <tr>\n",
       "      <th>3</th>\n",
       "      <td>5</td>\n",
       "      <td>NaN</td>\n",
       "      <td>14.0</td>\n",
       "    </tr>\n",
       "  </tbody>\n",
       "</table>\n",
       "</div>"
      ],
      "text/plain": [
       "   a    b     c\n",
       "0  1  5.0   NaN\n",
       "1  2  6.0   NaN\n",
       "2  3  7.0   NaN\n",
       "3  4  8.0   NaN\n",
       "0  1  NaN  11.0\n",
       "1  2  NaN  12.0\n",
       "2  3  NaN  13.0\n",
       "3  5  NaN  14.0"
      ]
     },
     "execution_count": 29,
     "metadata": {},
     "output_type": "execute_result"
    }
   ],
   "source": [
    "var1= pd.DataFrame({\"a\": [1,2,3,4], \"b\":[5,6,7,8]})\n",
    "var2= pd.DataFrame({\"a\": [1,2,3,5], \"c\":[11,12,13,14]})\n",
    "pd.concat([var1,var2])"
   ]
  },
  {
   "cell_type": "code",
   "execution_count": 30,
   "id": "3949d092",
   "metadata": {},
   "outputs": [
    {
     "data": {
      "text/html": [
       "<div>\n",
       "<style scoped>\n",
       "    .dataframe tbody tr th:only-of-type {\n",
       "        vertical-align: middle;\n",
       "    }\n",
       "\n",
       "    .dataframe tbody tr th {\n",
       "        vertical-align: top;\n",
       "    }\n",
       "\n",
       "    .dataframe thead th {\n",
       "        text-align: right;\n",
       "    }\n",
       "</style>\n",
       "<table border=\"1\" class=\"dataframe\">\n",
       "  <thead>\n",
       "    <tr style=\"text-align: right;\">\n",
       "      <th></th>\n",
       "      <th>a</th>\n",
       "      <th>b</th>\n",
       "      <th>a</th>\n",
       "      <th>c</th>\n",
       "    </tr>\n",
       "  </thead>\n",
       "  <tbody>\n",
       "    <tr>\n",
       "      <th>0</th>\n",
       "      <td>1</td>\n",
       "      <td>5</td>\n",
       "      <td>1</td>\n",
       "      <td>11</td>\n",
       "    </tr>\n",
       "    <tr>\n",
       "      <th>1</th>\n",
       "      <td>2</td>\n",
       "      <td>6</td>\n",
       "      <td>2</td>\n",
       "      <td>12</td>\n",
       "    </tr>\n",
       "    <tr>\n",
       "      <th>2</th>\n",
       "      <td>3</td>\n",
       "      <td>7</td>\n",
       "      <td>3</td>\n",
       "      <td>13</td>\n",
       "    </tr>\n",
       "    <tr>\n",
       "      <th>3</th>\n",
       "      <td>4</td>\n",
       "      <td>8</td>\n",
       "      <td>5</td>\n",
       "      <td>14</td>\n",
       "    </tr>\n",
       "  </tbody>\n",
       "</table>\n",
       "</div>"
      ],
      "text/plain": [
       "   a  b  a   c\n",
       "0  1  5  1  11\n",
       "1  2  6  2  12\n",
       "2  3  7  3  13\n",
       "3  4  8  5  14"
      ]
     },
     "execution_count": 30,
     "metadata": {},
     "output_type": "execute_result"
    }
   ],
   "source": [
    "var1= pd.DataFrame({\"a\": [1,2,3,4], \"b\":[5,6,7,8]})\n",
    "var2= pd.DataFrame({\"a\": [1,2,3,5], \"c\":[11,12,13,14]})\n",
    "pd.concat([var1,var2], axis=1)"
   ]
  },
  {
   "cell_type": "code",
   "execution_count": 32,
   "id": "b4d63dbf",
   "metadata": {},
   "outputs": [
    {
     "data": {
      "text/html": [
       "<div>\n",
       "<style scoped>\n",
       "    .dataframe tbody tr th:only-of-type {\n",
       "        vertical-align: middle;\n",
       "    }\n",
       "\n",
       "    .dataframe tbody tr th {\n",
       "        vertical-align: top;\n",
       "    }\n",
       "\n",
       "    .dataframe thead th {\n",
       "        text-align: right;\n",
       "    }\n",
       "</style>\n",
       "<table border=\"1\" class=\"dataframe\">\n",
       "  <thead>\n",
       "    <tr style=\"text-align: right;\">\n",
       "      <th></th>\n",
       "      <th>a</th>\n",
       "      <th>b</th>\n",
       "      <th>a</th>\n",
       "      <th>c</th>\n",
       "    </tr>\n",
       "  </thead>\n",
       "  <tbody>\n",
       "    <tr>\n",
       "      <th>0</th>\n",
       "      <td>1</td>\n",
       "      <td>5</td>\n",
       "      <td>1</td>\n",
       "      <td>11</td>\n",
       "    </tr>\n",
       "    <tr>\n",
       "      <th>1</th>\n",
       "      <td>2</td>\n",
       "      <td>6</td>\n",
       "      <td>2</td>\n",
       "      <td>12</td>\n",
       "    </tr>\n",
       "  </tbody>\n",
       "</table>\n",
       "</div>"
      ],
      "text/plain": [
       "   a  b  a   c\n",
       "0  1  5  1  11\n",
       "1  2  6  2  12"
      ]
     },
     "execution_count": 32,
     "metadata": {},
     "output_type": "execute_result"
    }
   ],
   "source": [
    "var1= pd.DataFrame({\"a\": [1,2,3,4], \"b\":[5,6,7,8]})\n",
    "var2= pd.DataFrame({\"a\": [1,2], \"c\":[11,12]})\n",
    "pd.concat([var1,var2], axis=1, join=\"inner\")"
   ]
  },
  {
   "cell_type": "code",
   "execution_count": 33,
   "id": "752ca079",
   "metadata": {},
   "outputs": [
    {
     "data": {
      "text/html": [
       "<div>\n",
       "<style scoped>\n",
       "    .dataframe tbody tr th:only-of-type {\n",
       "        vertical-align: middle;\n",
       "    }\n",
       "\n",
       "    .dataframe tbody tr th {\n",
       "        vertical-align: top;\n",
       "    }\n",
       "\n",
       "    .dataframe thead th {\n",
       "        text-align: right;\n",
       "    }\n",
       "</style>\n",
       "<table border=\"1\" class=\"dataframe\">\n",
       "  <thead>\n",
       "    <tr style=\"text-align: right;\">\n",
       "      <th></th>\n",
       "      <th>a</th>\n",
       "      <th>b</th>\n",
       "      <th>a</th>\n",
       "      <th>c</th>\n",
       "    </tr>\n",
       "  </thead>\n",
       "  <tbody>\n",
       "    <tr>\n",
       "      <th>0</th>\n",
       "      <td>1</td>\n",
       "      <td>5</td>\n",
       "      <td>1.0</td>\n",
       "      <td>11.0</td>\n",
       "    </tr>\n",
       "    <tr>\n",
       "      <th>1</th>\n",
       "      <td>2</td>\n",
       "      <td>6</td>\n",
       "      <td>2.0</td>\n",
       "      <td>12.0</td>\n",
       "    </tr>\n",
       "    <tr>\n",
       "      <th>2</th>\n",
       "      <td>3</td>\n",
       "      <td>7</td>\n",
       "      <td>NaN</td>\n",
       "      <td>NaN</td>\n",
       "    </tr>\n",
       "    <tr>\n",
       "      <th>3</th>\n",
       "      <td>4</td>\n",
       "      <td>8</td>\n",
       "      <td>NaN</td>\n",
       "      <td>NaN</td>\n",
       "    </tr>\n",
       "  </tbody>\n",
       "</table>\n",
       "</div>"
      ],
      "text/plain": [
       "   a  b    a     c\n",
       "0  1  5  1.0  11.0\n",
       "1  2  6  2.0  12.0\n",
       "2  3  7  NaN   NaN\n",
       "3  4  8  NaN   NaN"
      ]
     },
     "execution_count": 33,
     "metadata": {},
     "output_type": "execute_result"
    }
   ],
   "source": [
    "var1= pd.DataFrame({\"a\": [1,2,3,4], \"b\":[5,6,7,8]})\n",
    "var2= pd.DataFrame({\"a\": [1,2], \"c\":[11,12]})\n",
    "pd.concat([var1,var2], axis=1, join=\"outer\")"
   ]
  },
  {
   "cell_type": "code",
   "execution_count": 39,
   "id": "8e1087ba",
   "metadata": {},
   "outputs": [
    {
     "name": "stdout",
     "output_type": "stream",
     "text": [
      "   name  s1  s2\n",
      "0     a   1  21\n",
      "1     c   2  22\n",
      "2     b   3  23\n",
      "3     c   4  24\n",
      "4     a   5  25\n",
      "5     c   6  26\n",
      "6     b   7  27\n",
      "7     c   8  28\n",
      "8     a   9  29\n",
      "9     b  10  30\n",
      "10    a  11  31\n"
     ]
    }
   ],
   "source": [
    "var= pd.DataFrame({\"name\":[\"a\",\"c\",\"b\",\"c\",\"a\",\"c\",\"b\",\"c\",\"a\",\"b\",\"a\"],\n",
    "                   \"s1\":[1,2,3,4,5,6,7,8,9,10,11],\n",
    "                    \"s2\":[21,22,23,24,25,26,27,28,29,30,31]})\n",
    "print(var)"
   ]
  },
  {
   "cell_type": "code",
   "execution_count": 42,
   "id": "da041b9f",
   "metadata": {},
   "outputs": [
    {
     "name": "stdout",
     "output_type": "stream",
     "text": [
      "a\n",
      "   name  s1  s2\n",
      "0     a   1  21\n",
      "4     a   5  25\n",
      "8     a   9  29\n",
      "10    a  11  31\n",
      "b\n",
      "  name  s1  s2\n",
      "2    b   3  23\n",
      "6    b   7  27\n",
      "9    b  10  30\n",
      "c\n",
      "  name  s1  s2\n",
      "1    c   2  22\n",
      "3    c   4  24\n",
      "5    c   6  26\n",
      "7    c   8  28\n"
     ]
    }
   ],
   "source": [
    "varnew=var.groupby(\"name\")\n",
    "for x, y in varnew:\n",
    "    print(x)\n",
    "    print(y)"
   ]
  },
  {
   "cell_type": "code",
   "execution_count": 44,
   "id": "5742adc2",
   "metadata": {},
   "outputs": [
    {
     "data": {
      "text/html": [
       "<div>\n",
       "<style scoped>\n",
       "    .dataframe tbody tr th:only-of-type {\n",
       "        vertical-align: middle;\n",
       "    }\n",
       "\n",
       "    .dataframe tbody tr th {\n",
       "        vertical-align: top;\n",
       "    }\n",
       "\n",
       "    .dataframe thead th {\n",
       "        text-align: right;\n",
       "    }\n",
       "</style>\n",
       "<table border=\"1\" class=\"dataframe\">\n",
       "  <thead>\n",
       "    <tr style=\"text-align: right;\">\n",
       "      <th></th>\n",
       "      <th>name</th>\n",
       "      <th>s1</th>\n",
       "      <th>s2</th>\n",
       "    </tr>\n",
       "  </thead>\n",
       "  <tbody>\n",
       "    <tr>\n",
       "      <th>2</th>\n",
       "      <td>b</td>\n",
       "      <td>3</td>\n",
       "      <td>23</td>\n",
       "    </tr>\n",
       "    <tr>\n",
       "      <th>6</th>\n",
       "      <td>b</td>\n",
       "      <td>7</td>\n",
       "      <td>27</td>\n",
       "    </tr>\n",
       "    <tr>\n",
       "      <th>9</th>\n",
       "      <td>b</td>\n",
       "      <td>10</td>\n",
       "      <td>30</td>\n",
       "    </tr>\n",
       "  </tbody>\n",
       "</table>\n",
       "</div>"
      ],
      "text/plain": [
       "  name  s1  s2\n",
       "2    b   3  23\n",
       "6    b   7  27\n",
       "9    b  10  30"
      ]
     },
     "execution_count": 44,
     "metadata": {},
     "output_type": "execute_result"
    }
   ],
   "source": [
    "varnew.get_group(\"b\")"
   ]
  },
  {
   "cell_type": "code",
   "execution_count": 45,
   "id": "87b5df66",
   "metadata": {},
   "outputs": [
    {
     "data": {
      "text/html": [
       "<div>\n",
       "<style scoped>\n",
       "    .dataframe tbody tr th:only-of-type {\n",
       "        vertical-align: middle;\n",
       "    }\n",
       "\n",
       "    .dataframe tbody tr th {\n",
       "        vertical-align: top;\n",
       "    }\n",
       "\n",
       "    .dataframe thead th {\n",
       "        text-align: right;\n",
       "    }\n",
       "</style>\n",
       "<table border=\"1\" class=\"dataframe\">\n",
       "  <thead>\n",
       "    <tr style=\"text-align: right;\">\n",
       "      <th></th>\n",
       "      <th>s1</th>\n",
       "      <th>s2</th>\n",
       "    </tr>\n",
       "    <tr>\n",
       "      <th>name</th>\n",
       "      <th></th>\n",
       "      <th></th>\n",
       "    </tr>\n",
       "  </thead>\n",
       "  <tbody>\n",
       "    <tr>\n",
       "      <th>a</th>\n",
       "      <td>1</td>\n",
       "      <td>21</td>\n",
       "    </tr>\n",
       "    <tr>\n",
       "      <th>b</th>\n",
       "      <td>3</td>\n",
       "      <td>23</td>\n",
       "    </tr>\n",
       "    <tr>\n",
       "      <th>c</th>\n",
       "      <td>2</td>\n",
       "      <td>22</td>\n",
       "    </tr>\n",
       "  </tbody>\n",
       "</table>\n",
       "</div>"
      ],
      "text/plain": [
       "      s1  s2\n",
       "name        \n",
       "a      1  21\n",
       "b      3  23\n",
       "c      2  22"
      ]
     },
     "execution_count": 45,
     "metadata": {},
     "output_type": "execute_result"
    }
   ],
   "source": [
    "varnew.min()"
   ]
  },
  {
   "cell_type": "code",
   "execution_count": 46,
   "id": "222c1936",
   "metadata": {},
   "outputs": [
    {
     "data": {
      "text/html": [
       "<div>\n",
       "<style scoped>\n",
       "    .dataframe tbody tr th:only-of-type {\n",
       "        vertical-align: middle;\n",
       "    }\n",
       "\n",
       "    .dataframe tbody tr th {\n",
       "        vertical-align: top;\n",
       "    }\n",
       "\n",
       "    .dataframe thead th {\n",
       "        text-align: right;\n",
       "    }\n",
       "</style>\n",
       "<table border=\"1\" class=\"dataframe\">\n",
       "  <thead>\n",
       "    <tr style=\"text-align: right;\">\n",
       "      <th></th>\n",
       "      <th>s1</th>\n",
       "      <th>s2</th>\n",
       "    </tr>\n",
       "    <tr>\n",
       "      <th>name</th>\n",
       "      <th></th>\n",
       "      <th></th>\n",
       "    </tr>\n",
       "  </thead>\n",
       "  <tbody>\n",
       "    <tr>\n",
       "      <th>a</th>\n",
       "      <td>6.500000</td>\n",
       "      <td>26.500000</td>\n",
       "    </tr>\n",
       "    <tr>\n",
       "      <th>b</th>\n",
       "      <td>6.666667</td>\n",
       "      <td>26.666667</td>\n",
       "    </tr>\n",
       "    <tr>\n",
       "      <th>c</th>\n",
       "      <td>5.000000</td>\n",
       "      <td>25.000000</td>\n",
       "    </tr>\n",
       "  </tbody>\n",
       "</table>\n",
       "</div>"
      ],
      "text/plain": [
       "            s1         s2\n",
       "name                     \n",
       "a     6.500000  26.500000\n",
       "b     6.666667  26.666667\n",
       "c     5.000000  25.000000"
      ]
     },
     "execution_count": 46,
     "metadata": {},
     "output_type": "execute_result"
    }
   ],
   "source": [
    "varnew.mean()"
   ]
  },
  {
   "cell_type": "code",
   "execution_count": 47,
   "id": "9d01b32a",
   "metadata": {},
   "outputs": [
    {
     "name": "stdout",
     "output_type": "stream",
     "text": [
      "[('a',    name  s1  s2\n",
      "0     a   1  21\n",
      "4     a   5  25\n",
      "8     a   9  29\n",
      "10    a  11  31), ('b',   name  s1  s2\n",
      "2    b   3  23\n",
      "6    b   7  27\n",
      "9    b  10  30), ('c',   name  s1  s2\n",
      "1    c   2  22\n",
      "3    c   4  24\n",
      "5    c   6  26\n",
      "7    c   8  28)]\n"
     ]
    }
   ],
   "source": [
    "li = list(varnew)#list mai convert ab kuch bhi kro iske sath\n",
    "print(li)"
   ]
  },
  {
   "cell_type": "code",
   "execution_count": null,
   "id": "7d275c21",
   "metadata": {},
   "outputs": [],
   "source": []
  }
 ],
 "metadata": {
  "kernelspec": {
   "display_name": "Python 3 (ipykernel)",
   "language": "python",
   "name": "python3"
  },
  "language_info": {
   "codemirror_mode": {
    "name": "ipython",
    "version": 3
   },
   "file_extension": ".py",
   "mimetype": "text/x-python",
   "name": "python",
   "nbconvert_exporter": "python",
   "pygments_lexer": "ipython3",
   "version": "3.9.13"
  }
 },
 "nbformat": 4,
 "nbformat_minor": 5
}
